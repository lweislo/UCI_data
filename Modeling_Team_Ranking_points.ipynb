{
  "nbformat": 4,
  "nbformat_minor": 0,
  "metadata": {
    "colab": {
      "private_outputs": true,
      "provenance": [],
      "collapsed_sections": [],
      "authorship_tag": "ABX9TyPE8E81A0hf67h0KHj6AhdN",
      "include_colab_link": true
    },
    "kernelspec": {
      "name": "python3",
      "display_name": "Python 3"
    },
    "language_info": {
      "name": "python"
    }
  },
  "cells": [
    {
      "cell_type": "markdown",
      "metadata": {
        "id": "view-in-github",
        "colab_type": "text"
      },
      "source": [
        "<a href=\"https://colab.research.google.com/github/lweislo/UCI_data/blob/main/Modeling_Team_Ranking_points.ipynb\" target=\"_parent\"><img src=\"https://colab.research.google.com/assets/colab-badge.svg\" alt=\"Open In Colab\"/></a>"
      ]
    },
    {
      "cell_type": "code",
      "execution_count": null,
      "metadata": {
        "id": "11dXYiJUYee-"
      },
      "outputs": [],
      "source": [
        "import pandas as pd\n",
        "from google.colab import files\n",
        "import numpy as np"
      ]
    },
    {
      "cell_type": "code",
      "source": [
        "#UPLOAD THE POINTS MODEL WIDE DATA FORM\n",
        "uploaded = files.upload()\n",
        "for fn in uploaded.keys():\n",
        "    print('User uploaded file \"{name}\"'.format(\n",
        "        name=fn, length=len(uploaded[fn])))\n",
        "for item in uploaded:\n",
        "    ptm = pd.read_csv(item, header=0)"
      ],
      "metadata": {
        "id": "kkiKfVvJYvHn"
      },
      "execution_count": null,
      "outputs": []
    },
    {
      "cell_type": "code",
      "source": [
        "#Check thecolumns\n",
        "vv = ptm.columns\n",
        "vv"
      ],
      "metadata": {
        "id": "vGyWmx0GY0Rh"
      },
      "execution_count": null,
      "outputs": []
    },
    {
      "cell_type": "code",
      "source": [
        "#Change the wide data to long\n",
        "ptm = pd.melt(ptm, id_vars='Position', value_vars=vv)\n",
        "#Get rid of nulls\n",
        "ptm = ptm.dropna()"
      ],
      "metadata": {
        "id": "1UjngWskYrtP"
      },
      "execution_count": null,
      "outputs": []
    },
    {
      "cell_type": "code",
      "source": [
        "#Make a new long dataframe\n",
        "dfp = pd.DataFrame()\n",
        "dfp['Rank'] = ptm.Position\n",
        "dfp['Code'] = ptm.variable\n",
        "dfp['Points'] = ptm.value"
      ],
      "metadata": {
        "id": "qX33D0uGY8NI"
      },
      "execution_count": null,
      "outputs": []
    },
    {
      "cell_type": "code",
      "source": [
        "#UPLOAD 2020-2022 CODED RESULTS FILE\n",
        "uploaded = files.upload()\n",
        "for fn in uploaded.keys():\n",
        "    print('User uploaded file \"{name}\"'.format(\n",
        "        name=fn, length=len(uploaded[fn])))\n",
        "for item in uploaded:\n",
        "    res = pd.read_csv(item, header=0)\n",
        "#Check the length\n",
        "len(res)"
      ],
      "metadata": {
        "id": "jWWbWNMAY_c9"
      },
      "execution_count": null,
      "outputs": []
    },
    {
      "cell_type": "code",
      "source": [
        "#MERGE RESULTS AND LONG MODEL\n",
        "pmod = res.merge(dfp, on=['Rank','Code'], how=\"left\")\n",
        "#Check the length hasn't changed\n",
        "len(pmod)"
      ],
      "metadata": {
        "id": "ccd3bKfmZB_P"
      },
      "execution_count": null,
      "outputs": []
    },
    {
      "cell_type": "code",
      "source": [
        "#To visualize, pivot with values the recalculated point totals\n",
        "rda = pmod.groupby(['Team','Type'])['Points_y'].sum().reset_index()\n",
        "rda.pivot(index='Team', columns='Type', values='Points_y')"
      ],
      "metadata": {
        "id": "EwwrZvksZMdq"
      },
      "execution_count": null,
      "outputs": []
    },
    {
      "cell_type": "code",
      "source": [
        "#If you want to say, make one-day races worth half, make a weighting dictionary to map values\n",
        "pt_mod = {'Stage Race':1, 'One Day':0.5, 'Championships':1, 'Grand Tour':1}\n",
        "pmod['Pt Adj'] = np.nan\n",
        "pmod['Pt Adj'] = pmod['Type'].map(pt_mod)\n",
        "pmod['One Day adj'] = pmod.Points_y * pmod['Pt Adj']\n",
        "rda = pmod.groupby(['Team','Type'])['One Day adj'].sum().reset_index()\n",
        "rda.pivot(index='Team', columns='Type', values='One Day adj')"
      ],
      "metadata": {
        "id": "QFl5un22ZPs7"
      },
      "execution_count": null,
      "outputs": []
    }
  ]
}