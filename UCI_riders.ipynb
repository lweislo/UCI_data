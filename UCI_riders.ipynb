{
  "nbformat": 4,
  "nbformat_minor": 0,
  "metadata": {
    "kernelspec": {
      "display_name": "Python 3",
      "language": "python",
      "name": "python3"
    },
    "language_info": {
      "codemirror_mode": {
        "name": "ipython",
        "version": 3
      },
      "file_extension": ".py",
      "mimetype": "text/x-python",
      "name": "python",
      "nbconvert_exporter": "python",
      "pygments_lexer": "ipython3",
      "version": "3.6.6"
    },
    "colab": {
      "name": "UCI-riders.ipynb",
      "provenance": [],
      "collapsed_sections": [],
      "include_colab_link": true
    }
  },
  "cells": [
    {
      "cell_type": "markdown",
      "metadata": {
        "id": "view-in-github",
        "colab_type": "text"
      },
      "source": [
        "<a href=\"https://colab.research.google.com/github/lweislo/UCI_data/blob/main/UCI_riders.ipynb\" target=\"_parent\"><img src=\"https://colab.research.google.com/assets/colab-badge.svg\" alt=\"Open In Colab\"/></a>"
      ]
    },
    {
      "cell_type": "markdown",
      "metadata": {
        "id": "y3BllgIghurt"
      },
      "source": [
        "THIS GRABS RIDERS/Teams FROM THE NEW UCI WEBSITE'S API\n",
        "\n",
        "Still a work in progress\n",
        "\n",
        "\n",
        "\n"
      ]
    },
    {
      "cell_type": "code",
      "metadata": {
        "id": "a9SFv-IXXxRa"
      },
      "source": [
        "# Dependencies\n",
        "import pandas as pd\n",
        "import requests\n",
        "import json\n",
        "from bs4 import BeautifulSoup\n",
        "from google.colab import files\n",
        "\n",
        "#Grab the data from the UCI API link\n",
        "def output_file(table_list, outfile):\n",
        "\n",
        "    with open(outfile, 'w') as file:\n",
        "        for item in range(0, len(table_list)):\n",
        "            try:\n",
        "            # Write plain CSV output full results\n",
        "                file.write(table_list[item].to_csv(header=False, index=False, encoding='UTF-8', sep='\\t'))\n",
        "            except:\n",
        "                pass\n",
        "    files.download(outfile)\n",
        "\n",
        "def format_results(url):\n",
        "\n",
        "    data = requests.get(url).json()\n",
        "\n",
        "    if len(data) !=0:\n",
        "        df = pd.DataFrame(data['items'])\n",
        "        return df\n",
        "    else:\n",
        "        pass\n",
        "\n",
        "def get_riders(riders, code, category):\n",
        "    rider_df = pd.DataFrame()\n",
        "    first_name = []\n",
        "    last_name = []\n",
        "    country_code = []\n",
        "    team_code = []\n",
        "    rider_role = []\n",
        "    team_cat = []\n",
        "    for i in riders:\n",
        "        if i['label'] != 'Management':\n",
        "            for item in i['riders']:\n",
        "                try:\n",
        "                    first_name.append(item['givenName'])\n",
        "                except:\n",
        "                    first_name.append('')\n",
        "                try:\n",
        "                    last_name.append(item['familyName'])\n",
        "                except:\n",
        "                    last_name.append('')\n",
        "                try:\n",
        "                    country_code.append(item['countryCode'])\n",
        "                except:\n",
        "                    country_code.append('')\n",
        "                rider_role.append(i['label'])\n",
        "                team_code.append(code)\n",
        "                team_cat.append(category)\n",
        "    rider_df['FN'] = first_name\n",
        "    rider_df['LN'] = last_name\n",
        "    rider_df['Country'] = country_code\n",
        "    rider_df['Team'] = team_code\n",
        "    rider_df['Role'] = rider_role\n",
        "    rider_df['Category'] = team_cat\n",
        "    return rider_df\n",
        "def get_team_data(raw_url):\n",
        "    # raw_url = 'https://www.uci.org/team-details/15233'\n",
        "    page = requests.get(raw_url)\n",
        "\n",
        "    if page.status_code == 200:\n",
        "        content = page.content\n",
        "        soup = BeautifulSoup(content, \"html5lib\")\n",
        "        links = soup.find('div', {'data-component':'TeamDetailsModule'})\n",
        "        if links:\n",
        "            print(\"found data\")\n",
        "            try:\n",
        "                raw_data = json.loads(links['data-props'])\n",
        "                team_code = raw_data['details']['teamCode']\n",
        "                team_name = raw_data['details']['teamName']\n",
        "                team_cat = raw_data['details']['categoryName']\n",
        "                new_row = {'Code': team_code, 'Name': team_name, 'Category': team_cat}\n",
        "                teams_df = pd.DataFrame(new_row, index=[0])\n",
        "                riders = raw_data['riders']['panels']\n",
        "                if riders:\n",
        "                    rider_df = get_riders(riders, team_code, team_cat)\n",
        "            except TypeError:\n",
        "                print(\"Problem getting results, UCI may have changed their API\")\n",
        "                pass\n",
        "        else:\n",
        "            print(\"Error finding results. UCI may have changed their HTML tags\")\n",
        "        return rider_df, teams_df"
      ],
      "execution_count": 2,
      "outputs": []
    },
    {
      "cell_type": "code",
      "metadata": {
        "id": "lt3ZjAHDFOBl"
      },
      "source": [
        "teams = 'https://www.uci.org/api/teams/ROA/2022?pageSize=9999'\n",
        "df = format_results(teams)\n",
        "team_urls = []\n",
        "for item in df['url']:\n",
        "    team_urls.append('https://www.uci.org'+ item)\n",
        "all_riders = []\n",
        "all_teams = []\n",
        "for link in team_urls:\n",
        "    rider_df, teams_df = get_team_data(link)\n",
        "    all_riders.append(rider_df)\n",
        "    all_teams.append(teams_df)"
      ],
      "execution_count": null,
      "outputs": []
    },
    {
      "cell_type": "code",
      "source": [
        "output_file(all_riders, 'Riders.txt')"
      ],
      "metadata": {
        "colab": {
          "base_uri": "https://localhost:8080/",
          "height": 17
        },
        "id": "acLxdnMomLZ7",
        "outputId": "5ed60f28-4979-47f2-960b-18c3f15effc1"
      },
      "execution_count": 4,
      "outputs": [
        {
          "output_type": "display_data",
          "data": {
            "application/javascript": [
              "\n",
              "    async function download(id, filename, size) {\n",
              "      if (!google.colab.kernel.accessAllowed) {\n",
              "        return;\n",
              "      }\n",
              "      const div = document.createElement('div');\n",
              "      const label = document.createElement('label');\n",
              "      label.textContent = `Downloading \"${filename}\": `;\n",
              "      div.appendChild(label);\n",
              "      const progress = document.createElement('progress');\n",
              "      progress.max = size;\n",
              "      div.appendChild(progress);\n",
              "      document.body.appendChild(div);\n",
              "\n",
              "      const buffers = [];\n",
              "      let downloaded = 0;\n",
              "\n",
              "      const channel = await google.colab.kernel.comms.open(id);\n",
              "      // Send a message to notify the kernel that we're ready.\n",
              "      channel.send({})\n",
              "\n",
              "      for await (const message of channel.messages) {\n",
              "        // Send a message to notify the kernel that we're ready.\n",
              "        channel.send({})\n",
              "        if (message.buffers) {\n",
              "          for (const buffer of message.buffers) {\n",
              "            buffers.push(buffer);\n",
              "            downloaded += buffer.byteLength;\n",
              "            progress.value = downloaded;\n",
              "          }\n",
              "        }\n",
              "      }\n",
              "      const blob = new Blob(buffers, {type: 'application/binary'});\n",
              "      const a = document.createElement('a');\n",
              "      a.href = window.URL.createObjectURL(blob);\n",
              "      a.download = filename;\n",
              "      div.appendChild(a);\n",
              "      a.click();\n",
              "      div.remove();\n",
              "    }\n",
              "  "
            ],
            "text/plain": [
              "<IPython.core.display.Javascript object>"
            ]
          },
          "metadata": {}
        },
        {
          "output_type": "display_data",
          "data": {
            "application/javascript": [
              "download(\"download_6d58c237-e9a5-4ef9-a00a-9703eafcafa8\", \"Riders.txt\", 539)"
            ],
            "text/plain": [
              "<IPython.core.display.Javascript object>"
            ]
          },
          "metadata": {}
        }
      ]
    },
    {
      "cell_type": "code",
      "source": [
        "output_file(all_teams, 'Teams.txt')"
      ],
      "metadata": {
        "id": "1wTKPu-4UFwQ",
        "outputId": "9ddb5f50-b4c1-4469-9855-8ad360ab586a",
        "colab": {
          "base_uri": "https://localhost:8080/",
          "height": 17
        }
      },
      "execution_count": 5,
      "outputs": [
        {
          "output_type": "display_data",
          "data": {
            "application/javascript": [
              "\n",
              "    async function download(id, filename, size) {\n",
              "      if (!google.colab.kernel.accessAllowed) {\n",
              "        return;\n",
              "      }\n",
              "      const div = document.createElement('div');\n",
              "      const label = document.createElement('label');\n",
              "      label.textContent = `Downloading \"${filename}\": `;\n",
              "      div.appendChild(label);\n",
              "      const progress = document.createElement('progress');\n",
              "      progress.max = size;\n",
              "      div.appendChild(progress);\n",
              "      document.body.appendChild(div);\n",
              "\n",
              "      const buffers = [];\n",
              "      let downloaded = 0;\n",
              "\n",
              "      const channel = await google.colab.kernel.comms.open(id);\n",
              "      // Send a message to notify the kernel that we're ready.\n",
              "      channel.send({})\n",
              "\n",
              "      for await (const message of channel.messages) {\n",
              "        // Send a message to notify the kernel that we're ready.\n",
              "        channel.send({})\n",
              "        if (message.buffers) {\n",
              "          for (const buffer of message.buffers) {\n",
              "            buffers.push(buffer);\n",
              "            downloaded += buffer.byteLength;\n",
              "            progress.value = downloaded;\n",
              "          }\n",
              "        }\n",
              "      }\n",
              "      const blob = new Blob(buffers, {type: 'application/binary'});\n",
              "      const a = document.createElement('a');\n",
              "      a.href = window.URL.createObjectURL(blob);\n",
              "      a.download = filename;\n",
              "      div.appendChild(a);\n",
              "      a.click();\n",
              "      div.remove();\n",
              "    }\n",
              "  "
            ],
            "text/plain": [
              "<IPython.core.display.Javascript object>"
            ]
          },
          "metadata": {}
        },
        {
          "output_type": "display_data",
          "data": {
            "application/javascript": [
              "download(\"download_76f2f40c-e4f5-4a99-a715-3484749b70ee\", \"Teams.txt\", 72)"
            ],
            "text/plain": [
              "<IPython.core.display.Javascript object>"
            ]
          },
          "metadata": {}
        }
      ]
    },
    {
      "cell_type": "code",
      "source": [
        "# image_urls = [\"https://ucibws.uci.ch/api/WebResources/ModulesData/Teams/2022/ROA/Jerseys/WTT//ROA-WTT_ACT_2022.jpg\", \"https://ucibws.uci.ch/api/WebResources/ModulesData/Teams/2022/ROA/Jerseys/WTT//ROA-WTT_AST_2022.jpg\", \"https://ucibws.uci.ch/api/WebResources/ModulesData/Teams/2022/ROA/Jerseys/WTT//ROA-WTT_TBV_2022.jpg\", \"https://ucibws.uci.ch/api/WebResources/ModulesData/Teams/2022/ROA/Jerseys/WTT//ROA-WTT_BOH_2022.jpg\", \"https://ucibws.uci.ch/api/WebResources/ModulesData/Teams/2022/ROA/Jerseys/WTT//ROA-WTT_COF_2022.jpg\", \"https://ucibws.uci.ch/api/WebResources/ModulesData/Teams/2022/ROA/Jerseys/WTT//ROA-WTT_EFN_2022.jpg\", \"https://ucibws.uci.ch/api/WebResources/ModulesData/Teams/2022/ROA/Jerseys/WTT//ROA-WTT_GFC_2022.jpg\", \"https://ucibws.uci.ch/api/WebResources/ModulesData/Teams/2022/ROA/Jerseys/WTT//ROA-WTT_IGD_2022.jpg\", \"https://ucibws.uci.ch/api/WebResources/ModulesData/Teams/2022/ROA/Jerseys/WTT//ROA-WTT_IWG_2022.jpg\", \"https://ucibws.uci.ch/api/WebResources/ModulesData/Teams/2022/ROA/Jerseys/WTT//ROA-WTT_ISN_2022.jpg\", \"https://ucibws.uci.ch/api/WebResources/ModulesData/Teams/2022/ROA/Jerseys/WTT//ROA-WTT_TJV_2022.jpg\", \"https://ucibws.uci.ch/api/WebResources/ModulesData/Teams/2022/ROA/Jerseys/WTT//ROA-WTT_LTS_2022.jpg\", \"https://ucibws.uci.ch/api/WebResources/ModulesData/Teams/2022/ROA/Jerseys/WTT//ROA-WTT_MOV_2022.jpg\", \"https://ucibws.uci.ch/api/WebResources/ModulesData/Teams/2022/ROA/Jerseys/WTT//ROA-WTT_QST_2022.jpg\", \"https://ucibws.uci.ch/api/WebResources/ModulesData/Teams/2022/ROA/Jerseys/WTT//ROA-WTT_BEX_2022.jpg\", \"https://ucibws.uci.ch/api/WebResources/ModulesData/Teams/2022/ROA/Jerseys/WTT//ROA-WTT_DSM_2022.jpg\", \"https://ucibws.uci.ch/api/WebResources/ModulesData/Teams/2022/ROA/Jerseys/WTT//ROA-WTT_TFS_2022.jpg\", \"https://ucibws.uci.ch/api/WebResources/ModulesData/Teams/2022/ROA/Jerseys/WTT//ROA-WTT_UAD_2022.jpg\", \"https://ucibws.uci.ch/api/WebResources/ModulesData/Teams/2022/ROA/Jerseys/PRT//ROA-PRT_AFC_2022.jpg\", \"https://ucibws.uci.ch/api/WebResources/ModulesData/Teams/2022/ROA/Jerseys/PRT//ROA-PRT_BBK_2022.jpg\", \"https://ucibws.uci.ch/api/WebResources/ModulesData/Teams/2022/ROA/Jerseys/PRT//ROA-PRT_BCF_2022.jpg\", \"https://ucibws.uci.ch/api/WebResources/ModulesData/Teams/2022/ROA/Jerseys/PRT//ROA-PRT_BWB_2022.jpg\", \"https://ucibws.uci.ch/api/WebResources/ModulesData/Teams/2022/ROA/Jerseys/PRT//ROA-PRT_BBH_2022.jpg\", \"https://ucibws.uci.ch/api/WebResources/ModulesData/Teams/2022/ROA/Jerseys/PRT//ROA-PRT_CJR_2022.jpg\", \"https://ucibws.uci.ch/api/WebResources/ModulesData/Teams/2022/ROA/Jerseys/PRT//ROA-PRT_DRA_2022.jpg\", \"https://ucibws.uci.ch/api/WebResources/ModulesData/Teams/2022/ROA/Jerseys/PRT//ROA-PRT_EOK_2022.jpg\", \"https://ucibws.uci.ch/api/WebResources/ModulesData/Teams/2022/ROA/Jerseys/PRT//ROA-PRT_EKP_2022.jpg\", \"https://ucibws.uci.ch/api/WebResources/ModulesData/Teams/2022/ROA/Jerseys/PRT//ROA-PRT_EUS_2022.jpg\", \"https://ucibws.uci.ch/api/WebResources/ModulesData/Teams/2022/ROA/Jerseys/PRT//ROA-PRT_GAZ_2022.jpg\", \"https://ucibws.uci.ch/api/WebResources/ModulesData/Teams/2022/ROA/Jerseys/PRT//ROA-PRT_HPM_2022.jpg\", \"https://ucibws.uci.ch/api/WebResources/ModulesData/Teams/2022/ROA/Jerseys/PRT//ROA-PRT_SVB_2022.jpg\", \"https://ucibws.uci.ch/api/WebResources/ModulesData/Teams/2022/ROA/Jerseys/PRT//ROA-PRT_ARK_2022.jpg\", \"https://ucibws.uci.ch/api/WebResources/ModulesData/Teams/2022/ROA/Jerseys/PRT//ROA-PRT_TNN_2022.jpg\", \"https://ucibws.uci.ch/api/WebResources/ModulesData/Teams/2022/ROA/Jerseys/PRT//ROA-PRT_TEN_2022.jpg\", \"https://ucibws.uci.ch/api/WebResources/ModulesData/Teams/2022/ROA/Jerseys/PRT//ROA-PRT_UXT_2022.jpg\", \"https://ucibws.uci.ch/api/WebResources/ModulesData/Teams/2022/ROA/Jerseys/WTW//ROA-WTW_FDJ_2022.jpg\", \"https://ucibws.uci.ch/api/WebResources/ModulesData/Teams/2022/ROA/Jerseys/WTW//ROA-WTW_CSR_2022.jpg\", \"https://ucibws.uci.ch/api/WebResources/ModulesData/Teams/2022/ROA/Jerseys/WTW//ROA-WTW_TIB_2022.jpg\", \"https://ucibws.uci.ch/api/WebResources/ModulesData/Teams/2022/ROA/Jerseys/WTW//ROA-WTW_FDJ_2022.jpg\", \"https://ucibws.uci.ch/api/WebResources/ModulesData/Teams/2022/ROA/Jerseys/WTW//ROA-WTW_HPW_2022.jpg\", \"https://ucibws.uci.ch/api/WebResources/ModulesData/Teams/2022/ROA/Jerseys/WTW//ROA-WTW_LIV_2022.jpg\", \"https://ucibws.uci.ch/api/WebResources/ModulesData/Teams/2022/ROA/Jerseys/WTW//ROA-WTW_MOV_2022.jpg\", \"https://ucibws.uci.ch/api/WebResources/ModulesData/Teams/2022/ROA/Jerseys/WTW//ROA-WTW_CGS_2022.jpg\", \"https://ucibws.uci.ch/api/WebResources/ModulesData/Teams/2022/ROA/Jerseys/WTW//ROA-WTW_BEX_2022.jpg\", \"https://ucibws.uci.ch/api/WebResources/ModulesData/Teams/2022/ROA/Jerseys/WTW//ROA-WTW_DSM_2022.jpg\", \"https://ucibws.uci.ch/api/WebResources/ModulesData/Teams/2022/ROA/Jerseys/WTW//ROA-WTW_JVW_2022.jpg\", \"https://ucibws.uci.ch/api/WebResources/ModulesData/Teams/2022/ROA/Jerseys/WTW//ROA-WTW_SDW_2022.jpg\", \"https://ucibws.uci.ch/api/WebResources/ModulesData/Teams/2022/ROA/Jerseys/WTW//ROA-WTW_TFS_2022.jpg\", \"https://ucibws.uci.ch/api/WebResources/ModulesData/Teams/2022/ROA/Jerseys/WTW//ROA-WTW_UAD_2022.jpg\", \"https://ucibws.uci.ch/api/WebResources/ModulesData/Teams/2022/ROA/Jerseys/WTW//ROA-WTW_UXT_2022.jpg\"]\n"
      ],
      "metadata": {
        "id": "K3z5OGFPZxEI"
      },
      "execution_count": null,
      "outputs": []
    },
    {
      "cell_type": "code",
      "source": [
        "# for item in image_urls:\n",
        "#     team = item.split(\"ROA-\")[-1]\n",
        "#     page = requests.get(item)\n",
        "#     print(page.status_code)\n",
        "#     if page.status_code == 200:\n",
        "#         img_data = page.content\n",
        "#         with open(team, 'wb') as handler:\n",
        "#             handler.write(img_data)\n",
        "\n",
        "#         files.download(f'{team}')\n",
        "#     else:\n",
        "#         pass"
      ],
      "metadata": {
        "id": "wzZP1XOHaNUh"
      },
      "execution_count": null,
      "outputs": []
    }
  ]
}