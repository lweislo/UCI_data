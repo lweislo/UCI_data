{
  "nbformat": 4,
  "nbformat_minor": 0,
  "metadata": {
    "kernelspec": {
      "display_name": "Python 3",
      "language": "python",
      "name": "python3"
    },
    "language_info": {
      "codemirror_mode": {
        "name": "ipython",
        "version": 3
      },
      "file_extension": ".py",
      "mimetype": "text/x-python",
      "name": "python",
      "nbconvert_exporter": "python",
      "pygments_lexer": "ipython3",
      "version": "3.6.6"
    },
    "colab": {
      "name": "UCI-new-results.ipynb",
      "provenance": [],
      "collapsed_sections": [],
      "include_colab_link": true
    },
    "widgets": {
      "application/vnd.jupyter.widget-state+json": {
        "7cf51919773e41b3ae55617a3bd0d610": {
          "model_module": "@jupyter-widgets/controls",
          "model_name": "GridBoxModel",
          "model_module_version": "1.5.0",
          "state": {
            "_view_name": "GridBoxView",
            "_dom_classes": [],
            "_model_name": "GridBoxModel",
            "_view_module": "@jupyter-widgets/controls",
            "_model_module_version": "1.5.0",
            "_view_count": null,
            "_view_module_version": "1.5.0",
            "box_style": "",
            "layout": "IPY_MODEL_47460d7d9ba046b2b9a8dbb2af6af7d1",
            "_model_module": "@jupyter-widgets/controls",
            "children": [
              "IPY_MODEL_9e5958cbdff14feaaa091cf74342481e",
              "IPY_MODEL_14d7deb8f3554c92941cde730b1aeae5"
            ]
          }
        },
        "47460d7d9ba046b2b9a8dbb2af6af7d1": {
          "model_module": "@jupyter-widgets/base",
          "model_name": "LayoutModel",
          "model_module_version": "1.2.0",
          "state": {
            "_view_name": "LayoutView",
            "grid_template_rows": "1fr 1fr",
            "right": null,
            "justify_content": null,
            "_view_module": "@jupyter-widgets/base",
            "overflow": null,
            "_model_module_version": "1.2.0",
            "_view_count": null,
            "flex_flow": null,
            "width": null,
            "min_width": null,
            "border": null,
            "align_items": null,
            "bottom": null,
            "_model_module": "@jupyter-widgets/base",
            "top": null,
            "grid_column": null,
            "overflow_y": null,
            "overflow_x": null,
            "grid_auto_flow": null,
            "grid_area": null,
            "grid_template_columns": "1fr 1fr",
            "flex": null,
            "_model_name": "LayoutModel",
            "justify_items": null,
            "grid_row": null,
            "max_height": null,
            "align_content": null,
            "visibility": null,
            "align_self": null,
            "height": null,
            "min_height": null,
            "padding": null,
            "grid_auto_rows": null,
            "grid_gap": null,
            "max_width": null,
            "order": null,
            "_view_module_version": "1.2.0",
            "grid_template_areas": "\"top-left top-right\"\n\"bottom-left bottom-right\"",
            "object_position": null,
            "object_fit": null,
            "grid_auto_columns": null,
            "margin": null,
            "display": null,
            "left": null
          }
        },
        "9e5958cbdff14feaaa091cf74342481e": {
          "model_module": "@jupyter-widgets/controls",
          "model_name": "TextModel",
          "model_module_version": "1.5.0",
          "state": {
            "_view_name": "TextView",
            "style": "IPY_MODEL_bcad92e209824b548ae51067c97534e3",
            "_dom_classes": [],
            "description": "Enter UCI URL for race here:",
            "_model_name": "TextModel",
            "placeholder": "",
            "_view_module": "@jupyter-widgets/controls",
            "_model_module_version": "1.5.0",
            "value": "https://www.uci.org/competition-details/2022/CRO/65588",
            "_view_count": null,
            "disabled": false,
            "_view_module_version": "1.5.0",
            "continuous_update": true,
            "description_tooltip": null,
            "_model_module": "@jupyter-widgets/controls",
            "layout": "IPY_MODEL_e189c5ad8eec48099ce99e387c9906ab"
          }
        },
        "14d7deb8f3554c92941cde730b1aeae5": {
          "model_module": "@jupyter-widgets/controls",
          "model_name": "ButtonModel",
          "model_module_version": "1.5.0",
          "state": {
            "_view_name": "ButtonView",
            "style": "IPY_MODEL_57a1b39e1b9245c781afb49c3c1376f1",
            "_dom_classes": [],
            "description": "Get available stages",
            "_model_name": "ButtonModel",
            "button_style": "",
            "_view_module": "@jupyter-widgets/controls",
            "_model_module_version": "1.5.0",
            "tooltip": "",
            "_view_count": null,
            "disabled": false,
            "_view_module_version": "1.5.0",
            "layout": "IPY_MODEL_098eef7911c44789b2a94fc560663860",
            "_model_module": "@jupyter-widgets/controls",
            "icon": ""
          }
        },
        "bcad92e209824b548ae51067c97534e3": {
          "model_module": "@jupyter-widgets/controls",
          "model_name": "DescriptionStyleModel",
          "model_module_version": "1.5.0",
          "state": {
            "_view_name": "StyleView",
            "_model_name": "DescriptionStyleModel",
            "description_width": "",
            "_view_module": "@jupyter-widgets/base",
            "_model_module_version": "1.5.0",
            "_view_count": null,
            "_view_module_version": "1.2.0",
            "_model_module": "@jupyter-widgets/controls"
          }
        },
        "e189c5ad8eec48099ce99e387c9906ab": {
          "model_module": "@jupyter-widgets/base",
          "model_name": "LayoutModel",
          "model_module_version": "1.2.0",
          "state": {
            "_view_name": "LayoutView",
            "grid_template_rows": null,
            "right": null,
            "justify_content": null,
            "_view_module": "@jupyter-widgets/base",
            "overflow": null,
            "_model_module_version": "1.2.0",
            "_view_count": null,
            "flex_flow": null,
            "width": null,
            "min_width": null,
            "border": null,
            "align_items": null,
            "bottom": null,
            "_model_module": "@jupyter-widgets/base",
            "top": null,
            "grid_column": null,
            "overflow_y": null,
            "overflow_x": null,
            "grid_auto_flow": null,
            "grid_area": "top-left",
            "grid_template_columns": null,
            "flex": null,
            "_model_name": "LayoutModel",
            "justify_items": null,
            "grid_row": null,
            "max_height": null,
            "align_content": null,
            "visibility": null,
            "align_self": null,
            "height": null,
            "min_height": null,
            "padding": null,
            "grid_auto_rows": null,
            "grid_gap": null,
            "max_width": null,
            "order": null,
            "_view_module_version": "1.2.0",
            "grid_template_areas": null,
            "object_position": null,
            "object_fit": null,
            "grid_auto_columns": null,
            "margin": null,
            "display": null,
            "left": null
          }
        },
        "57a1b39e1b9245c781afb49c3c1376f1": {
          "model_module": "@jupyter-widgets/controls",
          "model_name": "ButtonStyleModel",
          "model_module_version": "1.5.0",
          "state": {
            "_view_name": "StyleView",
            "_model_name": "ButtonStyleModel",
            "_view_module": "@jupyter-widgets/base",
            "_model_module_version": "1.5.0",
            "_view_count": null,
            "button_color": null,
            "font_weight": "",
            "_view_module_version": "1.2.0",
            "_model_module": "@jupyter-widgets/controls"
          }
        },
        "098eef7911c44789b2a94fc560663860": {
          "model_module": "@jupyter-widgets/base",
          "model_name": "LayoutModel",
          "model_module_version": "1.2.0",
          "state": {
            "_view_name": "LayoutView",
            "grid_template_rows": null,
            "right": null,
            "justify_content": null,
            "_view_module": "@jupyter-widgets/base",
            "overflow": null,
            "_model_module_version": "1.2.0",
            "_view_count": null,
            "flex_flow": null,
            "width": null,
            "min_width": null,
            "border": null,
            "align_items": null,
            "bottom": null,
            "_model_module": "@jupyter-widgets/base",
            "top": null,
            "grid_column": null,
            "overflow_y": null,
            "overflow_x": null,
            "grid_auto_flow": null,
            "grid_area": "top-right",
            "grid_template_columns": null,
            "flex": null,
            "_model_name": "LayoutModel",
            "justify_items": null,
            "grid_row": null,
            "max_height": null,
            "align_content": null,
            "visibility": null,
            "align_self": null,
            "height": null,
            "min_height": null,
            "padding": null,
            "grid_auto_rows": null,
            "grid_gap": null,
            "max_width": null,
            "order": null,
            "_view_module_version": "1.2.0",
            "grid_template_areas": null,
            "object_position": null,
            "object_fit": null,
            "grid_auto_columns": null,
            "margin": null,
            "display": null,
            "left": null
          }
        },
        "a0eb15648b734c7e948d47dfc9329548": {
          "model_module": "@jupyter-widgets/controls",
          "model_name": "DropdownModel",
          "model_module_version": "1.5.0",
          "state": {
            "_options_labels": [
              "Select stage",
              "Men Elite",
              "Men Junior",
              "Women Elite",
              "Women Junior"
            ],
            "_view_name": "DropdownView",
            "style": "IPY_MODEL_340cfe8e0d8d43d1b952f349f14f7d40",
            "_dom_classes": [],
            "description": "",
            "_model_name": "DropdownModel",
            "index": 4,
            "_view_module": "@jupyter-widgets/controls",
            "_model_module_version": "1.5.0",
            "_view_count": null,
            "disabled": false,
            "_view_module_version": "1.5.0",
            "description_tooltip": null,
            "_model_module": "@jupyter-widgets/controls",
            "layout": "IPY_MODEL_6e9d80789e2846c6a7ffb2a16283d85a"
          }
        },
        "340cfe8e0d8d43d1b952f349f14f7d40": {
          "model_module": "@jupyter-widgets/controls",
          "model_name": "DescriptionStyleModel",
          "model_module_version": "1.5.0",
          "state": {
            "_view_name": "StyleView",
            "_model_name": "DescriptionStyleModel",
            "description_width": "",
            "_view_module": "@jupyter-widgets/base",
            "_model_module_version": "1.5.0",
            "_view_count": null,
            "_view_module_version": "1.2.0",
            "_model_module": "@jupyter-widgets/controls"
          }
        },
        "6e9d80789e2846c6a7ffb2a16283d85a": {
          "model_module": "@jupyter-widgets/base",
          "model_name": "LayoutModel",
          "model_module_version": "1.2.0",
          "state": {
            "_view_name": "LayoutView",
            "grid_template_rows": null,
            "right": null,
            "justify_content": null,
            "_view_module": "@jupyter-widgets/base",
            "overflow": null,
            "_model_module_version": "1.2.0",
            "_view_count": null,
            "flex_flow": null,
            "width": null,
            "min_width": null,
            "border": null,
            "align_items": null,
            "bottom": null,
            "_model_module": "@jupyter-widgets/base",
            "top": null,
            "grid_column": null,
            "overflow_y": null,
            "overflow_x": null,
            "grid_auto_flow": null,
            "grid_area": null,
            "grid_template_columns": null,
            "flex": null,
            "_model_name": "LayoutModel",
            "justify_items": null,
            "grid_row": null,
            "max_height": null,
            "align_content": null,
            "visibility": null,
            "align_self": null,
            "height": null,
            "min_height": null,
            "padding": null,
            "grid_auto_rows": null,
            "grid_gap": null,
            "max_width": null,
            "order": null,
            "_view_module_version": "1.2.0",
            "grid_template_areas": null,
            "object_position": null,
            "object_fit": null,
            "grid_auto_columns": null,
            "margin": null,
            "display": null,
            "left": null
          }
        }
      }
    }
  },
  "cells": [
    {
      "cell_type": "markdown",
      "metadata": {
        "id": "view-in-github",
        "colab_type": "text"
      },
      "source": [
        "<a href=\"https://colab.research.google.com/github/lweislo/UCI_data/blob/main/UCI_new_results.ipynb\" target=\"_parent\"><img src=\"https://colab.research.google.com/assets/colab-badge.svg\" alt=\"Open In Colab\"/></a>"
      ]
    },
    {
      "cell_type": "markdown",
      "metadata": {
        "id": "y3BllgIghurt"
      },
      "source": [
        "THIS GRABS RESULTS FROM THE NEW UCI WEBSITE'S API\n",
        "* Click the 'play' button below\n",
        "* In another browser window, navigate to the main UCI race page that lists event 'stages'\n",
        "* example: https://www.uci.org/competition-details/2021/ROA/63844 and copy URL\n",
        "* FIRST: Paste the URL in the top box, click \"Get available stages\". A list will display below the boxes.\n",
        "* NEXT: Select the stage or race you want to get results for.\n",
        "* Results will be saved out as a tab-delimited text file\n",
        "* If you want to get another stage or GC results, no need to hit play again - just select it on the dropdown list.\n",
        "\n",
        "NOTE: the stage race results classifications come in as the UCI's order, not our desired order. \n",
        "\n",
        "\n"
      ]
    },
    {
      "cell_type": "code",
      "metadata": {
        "id": "a9SFv-IXXxRa",
        "colab": {
          "base_uri": "https://localhost:8080/",
          "height": 402,
          "referenced_widgets": [
            "7cf51919773e41b3ae55617a3bd0d610",
            "47460d7d9ba046b2b9a8dbb2af6af7d1",
            "9e5958cbdff14feaaa091cf74342481e",
            "14d7deb8f3554c92941cde730b1aeae5",
            "bcad92e209824b548ae51067c97534e3",
            "e189c5ad8eec48099ce99e387c9906ab",
            "57a1b39e1b9245c781afb49c3c1376f1",
            "098eef7911c44789b2a94fc560663860",
            "a0eb15648b734c7e948d47dfc9329548",
            "340cfe8e0d8d43d1b952f349f14f7d40",
            "6e9d80789e2846c6a7ffb2a16283d85a"
          ]
        },
        "cellView": "form",
        "outputId": "b8cdb3b9-0069-4851-d339-4c7903e66e9e"
      },
      "source": [
        "# Dependencies\n",
        "import numpy as np\n",
        "import pandas as pd\n",
        "import requests\n",
        "import json\n",
        "import re\n",
        "from bs4 import BeautifulSoup\n",
        "from google.colab import files\n",
        "from google.colab import files\n",
        "import ipywidgets as widgets\n",
        "from IPython.display import display\n",
        "from ipywidgets import TwoByTwoLayout\n",
        "\n",
        "#Grab the data from the UCI API link\n",
        "def output_file(header_list, table_list):\n",
        "\n",
        "    outfile = 'uci_results.txt'\n",
        "    with open(outfile, 'w') as file:\n",
        "        for item in range(0, len(table_list)):\n",
        "            print(f'Outputting results for {header_list[item]}')\n",
        "            try:\n",
        "            # Write plain CSV output full results\n",
        "                file.write(f'\\n{header_list[item]}\\n')\n",
        "                file.write(table_list[item].to_csv(header=False, index=False, encoding='UTF-8', sep='\\t'))\n",
        "            except:\n",
        "                pass\n",
        "    # Empty out the hopper\n",
        "    table_list = []\n",
        "    header_list = []\n",
        "    files.download(outfile)\n",
        "def format_results(url):\n",
        "\n",
        "    data = requests.get(url).json()\n",
        "    data = data['results']\n",
        "    if len(data) !=0:\n",
        "        df = pd.DataFrame(data)\n",
        "        return df\n",
        "    else:\n",
        "        pass\n",
        "def format_table(df):\n",
        "    out_df = pd.DataFrame()\n",
        "    out_df['Rank'] = df['rank'].fillna(df['result'])\n",
        "    out_df['Rider'] = (df['firstname'] + ' ' + df['lastname'].str.title())\n",
        "    out_df['Country'] = df['nationality']\n",
        "    if 'team' in df.columns:\n",
        "        out_df['Team'] = df['team']\n",
        "    out_df['Result'] = df['result']\n",
        "    return out_df\n",
        "def find_stages(raw_url):\n",
        "    event_codes = []\n",
        "    titles = []\n",
        "    stage_results = []\n",
        "    stage_list = []\n",
        "    page = requests.get(raw_url)\n",
        "    if page.status_code == 200:\n",
        "        content = page.content\n",
        "        soup = BeautifulSoup(content, \"html5lib\")\n",
        "        links = soup.find('div', {'data-component':'CompetitionDetailsModule'})\n",
        "        if links:\n",
        "            try:\n",
        "                raw_urls = json.loads(links['data-props'])\n",
        "                stages = raw_urls['results']['accordion']\n",
        "                for i in stages:\n",
        "                    stage_list.append(i['label'])\n",
        "                    for n in i['results']:\n",
        "                        stage_results.append(i['label'])\n",
        "                        event_codes.append(n['eventCode'])\n",
        "                        titles.append(n['title'])\n",
        "            except TypeError:\n",
        "                print(\"Problem getting results, UCI may have changed their API\")\n",
        "                pass\n",
        "        else:\n",
        "            print(\"Error finding results. UCI may have changed their HTML tags\")\n",
        "        return event_codes, titles, stage_results, stage_list\n",
        "def scrape_api(stage, codes, headers, discipline):\n",
        "    header_list = []\n",
        "    table_list = []\n",
        "    print(f\"Getting results for {stage}\")\n",
        "    out_df = pd.DataFrame()\n",
        "    for i, v in enumerate(codes):\n",
        "\n",
        "        try:\n",
        "            url = f\"https://www.uci.org/api/calendar/results/{v}?discipline={discipline}\"\n",
        "            print(f'Getting results for {url}')\n",
        "            df = format_results(url)\n",
        "\n",
        "            if len(df)>0:\n",
        "                print(f\"{len(df)} rows of data found for {headers[i]}\")\n",
        "                header_list.append(headers[i])\n",
        "                try:\n",
        "                    out_df = format_table(df)\n",
        "                    table_list.append(out_df)\n",
        "                except:\n",
        "                    table_list.append(df)\n",
        "            else:\n",
        "                print(f\"No data found for {headers[i]}\")\n",
        "        except:\n",
        "            pass\n",
        "    output_file(header_list, table_list)\n",
        "\n",
        "def on_button_clicked_1(b):\n",
        "    stages_url = race_url.value\n",
        "    try:\n",
        "        if b.description == 'Get available stages':\n",
        "            if 'uci.org' not in stages_url:\n",
        "                print(\"Please enter a valid UCI URL eg. https://www.uci.org/competition-details/2021/ROA/63803\")\n",
        "            else:\n",
        "                print(f\"Getting available stages\")              \n",
        "                disciplines = ['ROA', 'MTB', 'CRO']\n",
        "                discipline = stages_url.split('/')[-2]\n",
        "                if discipline not in disciplines:\n",
        "                    print(\"That is not a valid event URL\")\n",
        "                else:\n",
        "                    event_codes, titles, stage_results, stage_list = find_stages(stages_url)\n",
        "                    dropdown_stage = widgets.Dropdown(options = values_plus_select(stage_list))\n",
        "                    display(dropdown_stage)\n",
        "                    dropdown_stage.observe(dropdown_stage_eventhandler, names='value')\n",
        "    except TypeError:\n",
        "        print(\"We had a problem with that URL\")\n",
        "    return event_codes, titles, stage_results, stage_list\n",
        "\n",
        "# Handle populating the stage/event list dropdown\n",
        "ALL = 'Select stage'\n",
        "def values_plus_select(stage_list):\n",
        "    stage_list.insert(0, ALL)\n",
        "    return stage_list\n",
        "\n",
        "# Handle a change in the selection\n",
        "def dropdown_stage_eventhandler(change):\n",
        "    if (change.new == ALL):\n",
        "        pass\n",
        "    else:\n",
        "        stage = change.new #The stage or event selected\n",
        "        stages_url = race_url.value #The URL entered in box\n",
        "        discipline = stages_url.split('/')[-2]\n",
        "        # Get the list of stages/codes to make the URLs etc\n",
        "\n",
        "        event_codes, titles, stage_results, stage_list = find_stages(stages_url)\n",
        "        # Whittle down the big list of everthing to just the stage selecetd\n",
        "        stages = [i for i, val in enumerate(stage_results) if val in stage] # Stage names from soup\n",
        "        codes = [val for i, val in enumerate(event_codes) if i in stages] # Event codes corresponding to stage selected\n",
        "        headers = [val for i, val in enumerate(titles) if i in stages] # Classification names from stage selected\n",
        "        # Get the actual results and download\n",
        "        scrape_api(stage, codes, headers, discipline)\n",
        "\n",
        "\n",
        "get_stages = widgets.Button(description=\"Get available stages\")\n",
        "race_url = widgets.Text(value='', placeholder='', description='Enter UCI URL for race here:', disabled=False)\n",
        "\n",
        "get_stages.on_click(on_button_clicked_1)\n",
        "\n",
        "TwoByTwoLayout(top_left=race_url,\n",
        "            top_right=get_stages,\n",
        "            merge=False)\n",
        "# @title <-- Click the play button to the left to load program."
      ],
      "execution_count": null,
      "outputs": [
        {
          "output_type": "display_data",
          "data": {
            "application/vnd.jupyter.widget-view+json": {
              "model_id": "7cf51919773e41b3ae55617a3bd0d610",
              "version_minor": 0,
              "version_major": 2
            },
            "text/plain": [
              "TwoByTwoLayout(children=(Text(value='', description='Enter UCI URL for race here:', layout=Layout(grid_area='t…"
            ]
          },
          "metadata": {}
        },
        {
          "output_type": "stream",
          "name": "stdout",
          "text": [
            "Getting available stages\n"
          ]
        },
        {
          "output_type": "display_data",
          "data": {
            "application/vnd.jupyter.widget-view+json": {
              "model_id": "a0eb15648b734c7e948d47dfc9329548",
              "version_minor": 0,
              "version_major": 2
            },
            "text/plain": [
              "Dropdown(options=('Select stage', 'Men Elite', 'Men Junior', 'Women Elite', 'Women Junior'), value='Select sta…"
            ]
          },
          "metadata": {}
        },
        {
          "output_type": "stream",
          "name": "stdout",
          "text": [
            "Getting results for Women Elite\n",
            "Getting results for https://www.uci.org/api/calendar/results/D2EV226511?discipline=CRO\n",
            "22 rows of data found for General Classification\n",
            "Outputting results for General Classification\n"
          ]
        },
        {
          "output_type": "display_data",
          "data": {
            "application/javascript": [
              "\n",
              "    async function download(id, filename, size) {\n",
              "      if (!google.colab.kernel.accessAllowed) {\n",
              "        return;\n",
              "      }\n",
              "      const div = document.createElement('div');\n",
              "      const label = document.createElement('label');\n",
              "      label.textContent = `Downloading \"${filename}\": `;\n",
              "      div.appendChild(label);\n",
              "      const progress = document.createElement('progress');\n",
              "      progress.max = size;\n",
              "      div.appendChild(progress);\n",
              "      document.body.appendChild(div);\n",
              "\n",
              "      const buffers = [];\n",
              "      let downloaded = 0;\n",
              "\n",
              "      const channel = await google.colab.kernel.comms.open(id);\n",
              "      // Send a message to notify the kernel that we're ready.\n",
              "      channel.send({})\n",
              "\n",
              "      for await (const message of channel.messages) {\n",
              "        // Send a message to notify the kernel that we're ready.\n",
              "        channel.send({})\n",
              "        if (message.buffers) {\n",
              "          for (const buffer of message.buffers) {\n",
              "            buffers.push(buffer);\n",
              "            downloaded += buffer.byteLength;\n",
              "            progress.value = downloaded;\n",
              "          }\n",
              "        }\n",
              "      }\n",
              "      const blob = new Blob(buffers, {type: 'application/binary'});\n",
              "      const a = document.createElement('a');\n",
              "      a.href = window.URL.createObjectURL(blob);\n",
              "      a.download = filename;\n",
              "      div.appendChild(a);\n",
              "      a.click();\n",
              "      div.remove();\n",
              "    }\n",
              "  "
            ],
            "text/plain": [
              "<IPython.core.display.Javascript object>"
            ]
          },
          "metadata": {}
        },
        {
          "output_type": "display_data",
          "data": {
            "application/javascript": [
              "download(\"download_d84c38e6-4d06-4322-b9ac-a4daf0131df9\", \"uci_results.txt\", 682)"
            ],
            "text/plain": [
              "<IPython.core.display.Javascript object>"
            ]
          },
          "metadata": {}
        },
        {
          "output_type": "stream",
          "name": "stdout",
          "text": [
            "Getting results for Men Elite\n",
            "Getting results for https://www.uci.org/api/calendar/results/D2EV226509?discipline=CRO\n",
            "44 rows of data found for General Classification\n",
            "Outputting results for General Classification\n"
          ]
        },
        {
          "output_type": "display_data",
          "data": {
            "application/javascript": [
              "\n",
              "    async function download(id, filename, size) {\n",
              "      if (!google.colab.kernel.accessAllowed) {\n",
              "        return;\n",
              "      }\n",
              "      const div = document.createElement('div');\n",
              "      const label = document.createElement('label');\n",
              "      label.textContent = `Downloading \"${filename}\": `;\n",
              "      div.appendChild(label);\n",
              "      const progress = document.createElement('progress');\n",
              "      progress.max = size;\n",
              "      div.appendChild(progress);\n",
              "      document.body.appendChild(div);\n",
              "\n",
              "      const buffers = [];\n",
              "      let downloaded = 0;\n",
              "\n",
              "      const channel = await google.colab.kernel.comms.open(id);\n",
              "      // Send a message to notify the kernel that we're ready.\n",
              "      channel.send({})\n",
              "\n",
              "      for await (const message of channel.messages) {\n",
              "        // Send a message to notify the kernel that we're ready.\n",
              "        channel.send({})\n",
              "        if (message.buffers) {\n",
              "          for (const buffer of message.buffers) {\n",
              "            buffers.push(buffer);\n",
              "            downloaded += buffer.byteLength;\n",
              "            progress.value = downloaded;\n",
              "          }\n",
              "        }\n",
              "      }\n",
              "      const blob = new Blob(buffers, {type: 'application/binary'});\n",
              "      const a = document.createElement('a');\n",
              "      a.href = window.URL.createObjectURL(blob);\n",
              "      a.download = filename;\n",
              "      div.appendChild(a);\n",
              "      a.click();\n",
              "      div.remove();\n",
              "    }\n",
              "  "
            ],
            "text/plain": [
              "<IPython.core.display.Javascript object>"
            ]
          },
          "metadata": {}
        },
        {
          "output_type": "display_data",
          "data": {
            "application/javascript": [
              "download(\"download_7a4c078b-7512-4673-8114-a4a1d9d8c3dc\", \"uci_results.txt\", 1390)"
            ],
            "text/plain": [
              "<IPython.core.display.Javascript object>"
            ]
          },
          "metadata": {}
        },
        {
          "output_type": "stream",
          "name": "stdout",
          "text": [
            "Getting results for Men Junior\n",
            "Getting results for https://www.uci.org/api/calendar/results/D2EV226510?discipline=CRO\n",
            "13 rows of data found for General Classification\n",
            "Outputting results for General Classification\n"
          ]
        },
        {
          "output_type": "display_data",
          "data": {
            "application/javascript": [
              "\n",
              "    async function download(id, filename, size) {\n",
              "      if (!google.colab.kernel.accessAllowed) {\n",
              "        return;\n",
              "      }\n",
              "      const div = document.createElement('div');\n",
              "      const label = document.createElement('label');\n",
              "      label.textContent = `Downloading \"${filename}\": `;\n",
              "      div.appendChild(label);\n",
              "      const progress = document.createElement('progress');\n",
              "      progress.max = size;\n",
              "      div.appendChild(progress);\n",
              "      document.body.appendChild(div);\n",
              "\n",
              "      const buffers = [];\n",
              "      let downloaded = 0;\n",
              "\n",
              "      const channel = await google.colab.kernel.comms.open(id);\n",
              "      // Send a message to notify the kernel that we're ready.\n",
              "      channel.send({})\n",
              "\n",
              "      for await (const message of channel.messages) {\n",
              "        // Send a message to notify the kernel that we're ready.\n",
              "        channel.send({})\n",
              "        if (message.buffers) {\n",
              "          for (const buffer of message.buffers) {\n",
              "            buffers.push(buffer);\n",
              "            downloaded += buffer.byteLength;\n",
              "            progress.value = downloaded;\n",
              "          }\n",
              "        }\n",
              "      }\n",
              "      const blob = new Blob(buffers, {type: 'application/binary'});\n",
              "      const a = document.createElement('a');\n",
              "      a.href = window.URL.createObjectURL(blob);\n",
              "      a.download = filename;\n",
              "      div.appendChild(a);\n",
              "      a.click();\n",
              "      div.remove();\n",
              "    }\n",
              "  "
            ],
            "text/plain": [
              "<IPython.core.display.Javascript object>"
            ]
          },
          "metadata": {}
        },
        {
          "output_type": "display_data",
          "data": {
            "application/javascript": [
              "download(\"download_b21a19bc-4b3a-4ce3-822d-2dcd11f46b6b\", \"uci_results.txt\", 392)"
            ],
            "text/plain": [
              "<IPython.core.display.Javascript object>"
            ]
          },
          "metadata": {}
        },
        {
          "output_type": "stream",
          "name": "stdout",
          "text": [
            "Getting results for Women Junior\n",
            "Getting results for https://www.uci.org/api/calendar/results/D2EV226512?discipline=CRO\n",
            "6 rows of data found for General Classification\n",
            "Outputting results for General Classification\n"
          ]
        },
        {
          "output_type": "display_data",
          "data": {
            "application/javascript": [
              "\n",
              "    async function download(id, filename, size) {\n",
              "      if (!google.colab.kernel.accessAllowed) {\n",
              "        return;\n",
              "      }\n",
              "      const div = document.createElement('div');\n",
              "      const label = document.createElement('label');\n",
              "      label.textContent = `Downloading \"${filename}\": `;\n",
              "      div.appendChild(label);\n",
              "      const progress = document.createElement('progress');\n",
              "      progress.max = size;\n",
              "      div.appendChild(progress);\n",
              "      document.body.appendChild(div);\n",
              "\n",
              "      const buffers = [];\n",
              "      let downloaded = 0;\n",
              "\n",
              "      const channel = await google.colab.kernel.comms.open(id);\n",
              "      // Send a message to notify the kernel that we're ready.\n",
              "      channel.send({})\n",
              "\n",
              "      for await (const message of channel.messages) {\n",
              "        // Send a message to notify the kernel that we're ready.\n",
              "        channel.send({})\n",
              "        if (message.buffers) {\n",
              "          for (const buffer of message.buffers) {\n",
              "            buffers.push(buffer);\n",
              "            downloaded += buffer.byteLength;\n",
              "            progress.value = downloaded;\n",
              "          }\n",
              "        }\n",
              "      }\n",
              "      const blob = new Blob(buffers, {type: 'application/binary'});\n",
              "      const a = document.createElement('a');\n",
              "      a.href = window.URL.createObjectURL(blob);\n",
              "      a.download = filename;\n",
              "      div.appendChild(a);\n",
              "      a.click();\n",
              "      div.remove();\n",
              "    }\n",
              "  "
            ],
            "text/plain": [
              "<IPython.core.display.Javascript object>"
            ]
          },
          "metadata": {}
        },
        {
          "output_type": "display_data",
          "data": {
            "application/javascript": [
              "download(\"download_5cbef599-04ee-457b-8ea0-0b078357ee58\", \"uci_results.txt\", 197)"
            ],
            "text/plain": [
              "<IPython.core.display.Javascript object>"
            ]
          },
          "metadata": {}
        }
      ]
    }
  ]
}